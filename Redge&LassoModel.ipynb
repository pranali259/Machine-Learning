{
 "cells": [
  {
   "cell_type": "code",
   "execution_count": 1,
   "metadata": {},
   "outputs": [],
   "source": [
    "import numpy as np\n",
    "import pandas as pd\n",
    "import matplotlib.pyplot as plt\n",
    "import seaborn as sns\n",
    "\n",
    "from sklearn.model_selection import train_test_split\n",
    "from sklearn.linear_model import SGDRegressor\n",
    "from sklearn.metrics import mean_squared_error"
   ]
  },
  {
   "cell_type": "code",
   "execution_count": 2,
   "metadata": {},
   "outputs": [],
   "source": [
    "df = pd.read_csv(\"Automobile_data.csv\")"
   ]
  },
  {
   "cell_type": "code",
   "execution_count": 3,
   "metadata": {},
   "outputs": [
    {
     "data": {
      "text/html": [
       "<div>\n",
       "<style scoped>\n",
       "    .dataframe tbody tr th:only-of-type {\n",
       "        vertical-align: middle;\n",
       "    }\n",
       "\n",
       "    .dataframe tbody tr th {\n",
       "        vertical-align: top;\n",
       "    }\n",
       "\n",
       "    .dataframe thead th {\n",
       "        text-align: right;\n",
       "    }\n",
       "</style>\n",
       "<table border=\"1\" class=\"dataframe\">\n",
       "  <thead>\n",
       "    <tr style=\"text-align: right;\">\n",
       "      <th></th>\n",
       "      <th>symboling</th>\n",
       "      <th>normalized-losses</th>\n",
       "      <th>make</th>\n",
       "      <th>fuel-type</th>\n",
       "      <th>body-style</th>\n",
       "      <th>drive-wheels</th>\n",
       "      <th>engine-location</th>\n",
       "      <th>width</th>\n",
       "      <th>height</th>\n",
       "      <th>engine-type</th>\n",
       "      <th>engine-size</th>\n",
       "      <th>horsepower</th>\n",
       "      <th>city-mpg</th>\n",
       "      <th>highway-mpg</th>\n",
       "      <th>price</th>\n",
       "    </tr>\n",
       "  </thead>\n",
       "  <tbody>\n",
       "    <tr>\n",
       "      <th>0</th>\n",
       "      <td>3</td>\n",
       "      <td>?</td>\n",
       "      <td>alfa-romero</td>\n",
       "      <td>gas</td>\n",
       "      <td>convertible</td>\n",
       "      <td>rwd</td>\n",
       "      <td>front</td>\n",
       "      <td>64.1</td>\n",
       "      <td>48.8</td>\n",
       "      <td>dohc</td>\n",
       "      <td>130</td>\n",
       "      <td>111</td>\n",
       "      <td>21</td>\n",
       "      <td>27</td>\n",
       "      <td>13495</td>\n",
       "    </tr>\n",
       "    <tr>\n",
       "      <th>1</th>\n",
       "      <td>3</td>\n",
       "      <td>?</td>\n",
       "      <td>alfa-romero</td>\n",
       "      <td>gas</td>\n",
       "      <td>convertible</td>\n",
       "      <td>rwd</td>\n",
       "      <td>front</td>\n",
       "      <td>64.1</td>\n",
       "      <td>48.8</td>\n",
       "      <td>dohc</td>\n",
       "      <td>130</td>\n",
       "      <td>111</td>\n",
       "      <td>21</td>\n",
       "      <td>27</td>\n",
       "      <td>16500</td>\n",
       "    </tr>\n",
       "    <tr>\n",
       "      <th>2</th>\n",
       "      <td>1</td>\n",
       "      <td>?</td>\n",
       "      <td>alfa-romero</td>\n",
       "      <td>gas</td>\n",
       "      <td>hatchback</td>\n",
       "      <td>rwd</td>\n",
       "      <td>front</td>\n",
       "      <td>65.5</td>\n",
       "      <td>52.4</td>\n",
       "      <td>ohcv</td>\n",
       "      <td>152</td>\n",
       "      <td>154</td>\n",
       "      <td>19</td>\n",
       "      <td>26</td>\n",
       "      <td>16500</td>\n",
       "    </tr>\n",
       "    <tr>\n",
       "      <th>3</th>\n",
       "      <td>2</td>\n",
       "      <td>164</td>\n",
       "      <td>audi</td>\n",
       "      <td>gas</td>\n",
       "      <td>sedan</td>\n",
       "      <td>fwd</td>\n",
       "      <td>front</td>\n",
       "      <td>66.2</td>\n",
       "      <td>54.3</td>\n",
       "      <td>ohc</td>\n",
       "      <td>109</td>\n",
       "      <td>102</td>\n",
       "      <td>24</td>\n",
       "      <td>30</td>\n",
       "      <td>13950</td>\n",
       "    </tr>\n",
       "    <tr>\n",
       "      <th>4</th>\n",
       "      <td>2</td>\n",
       "      <td>164</td>\n",
       "      <td>audi</td>\n",
       "      <td>gas</td>\n",
       "      <td>sedan</td>\n",
       "      <td>4wd</td>\n",
       "      <td>front</td>\n",
       "      <td>66.4</td>\n",
       "      <td>54.3</td>\n",
       "      <td>ohc</td>\n",
       "      <td>136</td>\n",
       "      <td>115</td>\n",
       "      <td>18</td>\n",
       "      <td>22</td>\n",
       "      <td>17450</td>\n",
       "    </tr>\n",
       "  </tbody>\n",
       "</table>\n",
       "</div>"
      ],
      "text/plain": [
       "   symboling normalized-losses         make fuel-type   body-style  \\\n",
       "0          3                 ?  alfa-romero       gas  convertible   \n",
       "1          3                 ?  alfa-romero       gas  convertible   \n",
       "2          1                 ?  alfa-romero       gas    hatchback   \n",
       "3          2               164         audi       gas        sedan   \n",
       "4          2               164         audi       gas        sedan   \n",
       "\n",
       "  drive-wheels engine-location  width  height engine-type  engine-size  \\\n",
       "0          rwd           front   64.1    48.8        dohc          130   \n",
       "1          rwd           front   64.1    48.8        dohc          130   \n",
       "2          rwd           front   65.5    52.4        ohcv          152   \n",
       "3          fwd           front   66.2    54.3         ohc          109   \n",
       "4          4wd           front   66.4    54.3         ohc          136   \n",
       "\n",
       "  horsepower  city-mpg  highway-mpg  price  \n",
       "0        111        21           27  13495  \n",
       "1        111        21           27  16500  \n",
       "2        154        19           26  16500  \n",
       "3        102        24           30  13950  \n",
       "4        115        18           22  17450  "
      ]
     },
     "execution_count": 3,
     "metadata": {},
     "output_type": "execute_result"
    }
   ],
   "source": [
    "df.head()"
   ]
  },
  {
   "cell_type": "code",
   "execution_count": 4,
   "metadata": {},
   "outputs": [
    {
     "name": "stdout",
     "output_type": "stream",
     "text": [
      "<class 'pandas.core.frame.DataFrame'>\n",
      "RangeIndex: 205 entries, 0 to 204\n",
      "Data columns (total 15 columns):\n",
      "symboling            205 non-null int64\n",
      "normalized-losses    205 non-null object\n",
      "make                 205 non-null object\n",
      "fuel-type            205 non-null object\n",
      "body-style           205 non-null object\n",
      "drive-wheels         205 non-null object\n",
      "engine-location      205 non-null object\n",
      "width                205 non-null float64\n",
      "height               205 non-null float64\n",
      "engine-type          205 non-null object\n",
      "engine-size          205 non-null int64\n",
      "horsepower           205 non-null object\n",
      "city-mpg             205 non-null int64\n",
      "highway-mpg          205 non-null int64\n",
      "price                205 non-null int64\n",
      "dtypes: float64(2), int64(5), object(8)\n",
      "memory usage: 24.1+ KB\n"
     ]
    }
   ],
   "source": [
    "df.info()"
   ]
  },
  {
   "cell_type": "code",
   "execution_count": 5,
   "metadata": {},
   "outputs": [],
   "source": [
    "df[\"normalized-losses\"] = df[\"normalized-losses\"].replace(\"?\",np.nan)"
   ]
  },
  {
   "cell_type": "code",
   "execution_count": 6,
   "metadata": {},
   "outputs": [],
   "source": [
    "df[\"horsepower\"] = df[\"horsepower\"].replace(\"?\",np.nan)"
   ]
  },
  {
   "cell_type": "code",
   "execution_count": 7,
   "metadata": {},
   "outputs": [],
   "source": [
    "df[\"normalized-losses\"] = df[\"normalized-losses\"].astype('float')"
   ]
  },
  {
   "cell_type": "code",
   "execution_count": 8,
   "metadata": {},
   "outputs": [],
   "source": [
    "df[\"horsepower\"] = df[\"horsepower\"].astype('float')"
   ]
  },
  {
   "cell_type": "code",
   "execution_count": 9,
   "metadata": {},
   "outputs": [
    {
     "name": "stdout",
     "output_type": "stream",
     "text": [
      "<class 'pandas.core.frame.DataFrame'>\n",
      "RangeIndex: 205 entries, 0 to 204\n",
      "Data columns (total 15 columns):\n",
      "symboling            205 non-null int64\n",
      "normalized-losses    164 non-null float64\n",
      "make                 205 non-null object\n",
      "fuel-type            205 non-null object\n",
      "body-style           205 non-null object\n",
      "drive-wheels         205 non-null object\n",
      "engine-location      205 non-null object\n",
      "width                205 non-null float64\n",
      "height               205 non-null float64\n",
      "engine-type          205 non-null object\n",
      "engine-size          205 non-null int64\n",
      "horsepower           203 non-null float64\n",
      "city-mpg             205 non-null int64\n",
      "highway-mpg          205 non-null int64\n",
      "price                205 non-null int64\n",
      "dtypes: float64(4), int64(5), object(6)\n",
      "memory usage: 24.1+ KB\n"
     ]
    }
   ],
   "source": [
    "df.info()"
   ]
  },
  {
   "cell_type": "code",
   "execution_count": 10,
   "metadata": {},
   "outputs": [],
   "source": [
    "horsepower_mean = df['horsepower'].mean()"
   ]
  },
  {
   "cell_type": "code",
   "execution_count": 11,
   "metadata": {},
   "outputs": [
    {
     "data": {
      "text/plain": [
       "104.25615763546799"
      ]
     },
     "execution_count": 11,
     "metadata": {},
     "output_type": "execute_result"
    }
   ],
   "source": [
    "horsepower_mean"
   ]
  },
  {
   "cell_type": "code",
   "execution_count": 12,
   "metadata": {},
   "outputs": [],
   "source": [
    "df['horsepower'].fillna(horsepower_mean,inplace=True)"
   ]
  },
  {
   "cell_type": "code",
   "execution_count": 13,
   "metadata": {},
   "outputs": [
    {
     "data": {
      "text/plain": [
       "array([111.        , 154.        , 102.        , 115.        ,\n",
       "       110.        , 140.        , 160.        , 101.        ,\n",
       "       121.        , 182.        ,  48.        ,  70.        ,\n",
       "        68.        ,  88.        , 145.        ,  58.        ,\n",
       "        76.        ,  60.        ,  86.        , 100.        ,\n",
       "        78.        ,  90.        , 176.        , 262.        ,\n",
       "       135.        ,  84.        ,  64.        , 120.        ,\n",
       "        72.        , 123.        , 155.        , 184.        ,\n",
       "       175.        , 116.        ,  69.        ,  55.        ,\n",
       "        97.        , 152.        , 200.        ,  95.        ,\n",
       "       142.        , 143.        , 207.        , 288.        ,\n",
       "       104.25615764,  73.        ,  82.        ,  94.        ,\n",
       "        62.        ,  56.        , 112.        ,  92.        ,\n",
       "       161.        , 156.        ,  52.        ,  85.        ,\n",
       "       114.        , 162.        , 134.        , 106.        ])"
      ]
     },
     "execution_count": 13,
     "metadata": {},
     "output_type": "execute_result"
    }
   ],
   "source": [
    "df['horsepower'].unique()"
   ]
  },
  {
   "cell_type": "code",
   "execution_count": 14,
   "metadata": {},
   "outputs": [],
   "source": [
    "normalized_mean = df['normalized-losses'].mean()"
   ]
  },
  {
   "cell_type": "code",
   "execution_count": 15,
   "metadata": {},
   "outputs": [],
   "source": [
    "df['normalized-losses'].fillna(normalized_mean,inplace=True)"
   ]
  },
  {
   "cell_type": "code",
   "execution_count": 16,
   "metadata": {},
   "outputs": [
    {
     "data": {
      "text/plain": [
       "array([122., 164., 158., 192., 188., 121.,  98.,  81., 118., 148., 110.,\n",
       "       145., 137., 101.,  78., 106.,  85., 107., 104., 113., 150., 129.,\n",
       "       115.,  93., 142., 161., 153., 125., 128., 103., 168., 108., 194.,\n",
       "       231., 119., 154.,  74., 186.,  83., 102.,  89.,  87.,  77.,  91.,\n",
       "       134.,  65., 197.,  90.,  94., 256.,  95.])"
      ]
     },
     "execution_count": 16,
     "metadata": {},
     "output_type": "execute_result"
    }
   ],
   "source": [
    "df['normalized-losses'].unique()"
   ]
  },
  {
   "cell_type": "code",
   "execution_count": 17,
   "metadata": {},
   "outputs": [],
   "source": [
    "# Selecting only numerical columns\n",
    "df_num = df.select_dtypes([\"int64\",\"float64\"])"
   ]
  },
  {
   "cell_type": "code",
   "execution_count": 18,
   "metadata": {},
   "outputs": [
    {
     "data": {
      "text/html": [
       "<div>\n",
       "<style scoped>\n",
       "    .dataframe tbody tr th:only-of-type {\n",
       "        vertical-align: middle;\n",
       "    }\n",
       "\n",
       "    .dataframe tbody tr th {\n",
       "        vertical-align: top;\n",
       "    }\n",
       "\n",
       "    .dataframe thead th {\n",
       "        text-align: right;\n",
       "    }\n",
       "</style>\n",
       "<table border=\"1\" class=\"dataframe\">\n",
       "  <thead>\n",
       "    <tr style=\"text-align: right;\">\n",
       "      <th></th>\n",
       "      <th>symboling</th>\n",
       "      <th>normalized-losses</th>\n",
       "      <th>width</th>\n",
       "      <th>height</th>\n",
       "      <th>engine-size</th>\n",
       "      <th>horsepower</th>\n",
       "      <th>city-mpg</th>\n",
       "      <th>highway-mpg</th>\n",
       "      <th>price</th>\n",
       "    </tr>\n",
       "  </thead>\n",
       "  <tbody>\n",
       "    <tr>\n",
       "      <th>0</th>\n",
       "      <td>3</td>\n",
       "      <td>122.0</td>\n",
       "      <td>64.1</td>\n",
       "      <td>48.8</td>\n",
       "      <td>130</td>\n",
       "      <td>111.0</td>\n",
       "      <td>21</td>\n",
       "      <td>27</td>\n",
       "      <td>13495</td>\n",
       "    </tr>\n",
       "    <tr>\n",
       "      <th>1</th>\n",
       "      <td>3</td>\n",
       "      <td>122.0</td>\n",
       "      <td>64.1</td>\n",
       "      <td>48.8</td>\n",
       "      <td>130</td>\n",
       "      <td>111.0</td>\n",
       "      <td>21</td>\n",
       "      <td>27</td>\n",
       "      <td>16500</td>\n",
       "    </tr>\n",
       "    <tr>\n",
       "      <th>2</th>\n",
       "      <td>1</td>\n",
       "      <td>122.0</td>\n",
       "      <td>65.5</td>\n",
       "      <td>52.4</td>\n",
       "      <td>152</td>\n",
       "      <td>154.0</td>\n",
       "      <td>19</td>\n",
       "      <td>26</td>\n",
       "      <td>16500</td>\n",
       "    </tr>\n",
       "    <tr>\n",
       "      <th>3</th>\n",
       "      <td>2</td>\n",
       "      <td>164.0</td>\n",
       "      <td>66.2</td>\n",
       "      <td>54.3</td>\n",
       "      <td>109</td>\n",
       "      <td>102.0</td>\n",
       "      <td>24</td>\n",
       "      <td>30</td>\n",
       "      <td>13950</td>\n",
       "    </tr>\n",
       "    <tr>\n",
       "      <th>4</th>\n",
       "      <td>2</td>\n",
       "      <td>164.0</td>\n",
       "      <td>66.4</td>\n",
       "      <td>54.3</td>\n",
       "      <td>136</td>\n",
       "      <td>115.0</td>\n",
       "      <td>18</td>\n",
       "      <td>22</td>\n",
       "      <td>17450</td>\n",
       "    </tr>\n",
       "  </tbody>\n",
       "</table>\n",
       "</div>"
      ],
      "text/plain": [
       "   symboling  normalized-losses  width  height  engine-size  horsepower  \\\n",
       "0          3              122.0   64.1    48.8          130       111.0   \n",
       "1          3              122.0   64.1    48.8          130       111.0   \n",
       "2          1              122.0   65.5    52.4          152       154.0   \n",
       "3          2              164.0   66.2    54.3          109       102.0   \n",
       "4          2              164.0   66.4    54.3          136       115.0   \n",
       "\n",
       "   city-mpg  highway-mpg  price  \n",
       "0        21           27  13495  \n",
       "1        21           27  16500  \n",
       "2        19           26  16500  \n",
       "3        24           30  13950  \n",
       "4        18           22  17450  "
      ]
     },
     "execution_count": 18,
     "metadata": {},
     "output_type": "execute_result"
    }
   ],
   "source": [
    "df_num.head()"
   ]
  },
  {
   "cell_type": "code",
   "execution_count": 19,
   "metadata": {},
   "outputs": [],
   "source": [
    "# Selecting only object columns\n",
    "df_cat = df.select_dtypes([\"object\"])"
   ]
  },
  {
   "cell_type": "code",
   "execution_count": 20,
   "metadata": {},
   "outputs": [
    {
     "data": {
      "text/html": [
       "<div>\n",
       "<style scoped>\n",
       "    .dataframe tbody tr th:only-of-type {\n",
       "        vertical-align: middle;\n",
       "    }\n",
       "\n",
       "    .dataframe tbody tr th {\n",
       "        vertical-align: top;\n",
       "    }\n",
       "\n",
       "    .dataframe thead th {\n",
       "        text-align: right;\n",
       "    }\n",
       "</style>\n",
       "<table border=\"1\" class=\"dataframe\">\n",
       "  <thead>\n",
       "    <tr style=\"text-align: right;\">\n",
       "      <th></th>\n",
       "      <th>make</th>\n",
       "      <th>fuel-type</th>\n",
       "      <th>body-style</th>\n",
       "      <th>drive-wheels</th>\n",
       "      <th>engine-location</th>\n",
       "      <th>engine-type</th>\n",
       "    </tr>\n",
       "  </thead>\n",
       "  <tbody>\n",
       "    <tr>\n",
       "      <th>0</th>\n",
       "      <td>alfa-romero</td>\n",
       "      <td>gas</td>\n",
       "      <td>convertible</td>\n",
       "      <td>rwd</td>\n",
       "      <td>front</td>\n",
       "      <td>dohc</td>\n",
       "    </tr>\n",
       "    <tr>\n",
       "      <th>1</th>\n",
       "      <td>alfa-romero</td>\n",
       "      <td>gas</td>\n",
       "      <td>convertible</td>\n",
       "      <td>rwd</td>\n",
       "      <td>front</td>\n",
       "      <td>dohc</td>\n",
       "    </tr>\n",
       "    <tr>\n",
       "      <th>2</th>\n",
       "      <td>alfa-romero</td>\n",
       "      <td>gas</td>\n",
       "      <td>hatchback</td>\n",
       "      <td>rwd</td>\n",
       "      <td>front</td>\n",
       "      <td>ohcv</td>\n",
       "    </tr>\n",
       "    <tr>\n",
       "      <th>3</th>\n",
       "      <td>audi</td>\n",
       "      <td>gas</td>\n",
       "      <td>sedan</td>\n",
       "      <td>fwd</td>\n",
       "      <td>front</td>\n",
       "      <td>ohc</td>\n",
       "    </tr>\n",
       "    <tr>\n",
       "      <th>4</th>\n",
       "      <td>audi</td>\n",
       "      <td>gas</td>\n",
       "      <td>sedan</td>\n",
       "      <td>4wd</td>\n",
       "      <td>front</td>\n",
       "      <td>ohc</td>\n",
       "    </tr>\n",
       "  </tbody>\n",
       "</table>\n",
       "</div>"
      ],
      "text/plain": [
       "          make fuel-type   body-style drive-wheels engine-location engine-type\n",
       "0  alfa-romero       gas  convertible          rwd           front        dohc\n",
       "1  alfa-romero       gas  convertible          rwd           front        dohc\n",
       "2  alfa-romero       gas    hatchback          rwd           front        ohcv\n",
       "3         audi       gas        sedan          fwd           front         ohc\n",
       "4         audi       gas        sedan          4wd           front         ohc"
      ]
     },
     "execution_count": 20,
     "metadata": {},
     "output_type": "execute_result"
    }
   ],
   "source": [
    "df_cat.head()"
   ]
  },
  {
   "cell_type": "markdown",
   "metadata": {},
   "source": [
    "#Label encoding"
   ]
  },
  {
   "cell_type": "code",
   "execution_count": 21,
   "metadata": {},
   "outputs": [],
   "source": [
    "from sklearn.preprocessing import LabelEncoder"
   ]
  },
  {
   "cell_type": "code",
   "execution_count": 22,
   "metadata": {},
   "outputs": [
    {
     "name": "stderr",
     "output_type": "stream",
     "text": [
      "/srv/conda/envs/notebook/lib/python3.7/site-packages/ipykernel_launcher.py:3: SettingWithCopyWarning: \n",
      "A value is trying to be set on a copy of a slice from a DataFrame.\n",
      "Try using .loc[row_indexer,col_indexer] = value instead\n",
      "\n",
      "See the caveats in the documentation: http://pandas.pydata.org/pandas-docs/stable/indexing.html#indexing-view-versus-copy\n",
      "  This is separate from the ipykernel package so we can avoid doing imports until\n"
     ]
    }
   ],
   "source": [
    "for col in df_cat:\n",
    "    le = LabelEncoder()\n",
    "    df_cat[col] = le.fit_transform(df_cat[col])"
   ]
  },
  {
   "cell_type": "code",
   "execution_count": 23,
   "metadata": {},
   "outputs": [
    {
     "data": {
      "text/html": [
       "<div>\n",
       "<style scoped>\n",
       "    .dataframe tbody tr th:only-of-type {\n",
       "        vertical-align: middle;\n",
       "    }\n",
       "\n",
       "    .dataframe tbody tr th {\n",
       "        vertical-align: top;\n",
       "    }\n",
       "\n",
       "    .dataframe thead th {\n",
       "        text-align: right;\n",
       "    }\n",
       "</style>\n",
       "<table border=\"1\" class=\"dataframe\">\n",
       "  <thead>\n",
       "    <tr style=\"text-align: right;\">\n",
       "      <th></th>\n",
       "      <th>make</th>\n",
       "      <th>fuel-type</th>\n",
       "      <th>body-style</th>\n",
       "      <th>drive-wheels</th>\n",
       "      <th>engine-location</th>\n",
       "      <th>engine-type</th>\n",
       "    </tr>\n",
       "  </thead>\n",
       "  <tbody>\n",
       "    <tr>\n",
       "      <th>0</th>\n",
       "      <td>0</td>\n",
       "      <td>1</td>\n",
       "      <td>0</td>\n",
       "      <td>2</td>\n",
       "      <td>0</td>\n",
       "      <td>0</td>\n",
       "    </tr>\n",
       "    <tr>\n",
       "      <th>1</th>\n",
       "      <td>0</td>\n",
       "      <td>1</td>\n",
       "      <td>0</td>\n",
       "      <td>2</td>\n",
       "      <td>0</td>\n",
       "      <td>0</td>\n",
       "    </tr>\n",
       "    <tr>\n",
       "      <th>2</th>\n",
       "      <td>0</td>\n",
       "      <td>1</td>\n",
       "      <td>2</td>\n",
       "      <td>2</td>\n",
       "      <td>0</td>\n",
       "      <td>5</td>\n",
       "    </tr>\n",
       "    <tr>\n",
       "      <th>3</th>\n",
       "      <td>1</td>\n",
       "      <td>1</td>\n",
       "      <td>3</td>\n",
       "      <td>1</td>\n",
       "      <td>0</td>\n",
       "      <td>3</td>\n",
       "    </tr>\n",
       "    <tr>\n",
       "      <th>4</th>\n",
       "      <td>1</td>\n",
       "      <td>1</td>\n",
       "      <td>3</td>\n",
       "      <td>0</td>\n",
       "      <td>0</td>\n",
       "      <td>3</td>\n",
       "    </tr>\n",
       "  </tbody>\n",
       "</table>\n",
       "</div>"
      ],
      "text/plain": [
       "   make  fuel-type  body-style  drive-wheels  engine-location  engine-type\n",
       "0     0          1           0             2                0            0\n",
       "1     0          1           0             2                0            0\n",
       "2     0          1           2             2                0            5\n",
       "3     1          1           3             1                0            3\n",
       "4     1          1           3             0                0            3"
      ]
     },
     "execution_count": 23,
     "metadata": {},
     "output_type": "execute_result"
    }
   ],
   "source": [
    "df_cat.head()"
   ]
  },
  {
   "cell_type": "code",
   "execution_count": 24,
   "metadata": {},
   "outputs": [],
   "source": [
    "Final_df = pd.concat([df_num,df_cat],axis=1)"
   ]
  },
  {
   "cell_type": "code",
   "execution_count": 25,
   "metadata": {},
   "outputs": [
    {
     "data": {
      "text/html": [
       "<div>\n",
       "<style scoped>\n",
       "    .dataframe tbody tr th:only-of-type {\n",
       "        vertical-align: middle;\n",
       "    }\n",
       "\n",
       "    .dataframe tbody tr th {\n",
       "        vertical-align: top;\n",
       "    }\n",
       "\n",
       "    .dataframe thead th {\n",
       "        text-align: right;\n",
       "    }\n",
       "</style>\n",
       "<table border=\"1\" class=\"dataframe\">\n",
       "  <thead>\n",
       "    <tr style=\"text-align: right;\">\n",
       "      <th></th>\n",
       "      <th>symboling</th>\n",
       "      <th>normalized-losses</th>\n",
       "      <th>width</th>\n",
       "      <th>height</th>\n",
       "      <th>engine-size</th>\n",
       "      <th>horsepower</th>\n",
       "      <th>city-mpg</th>\n",
       "      <th>highway-mpg</th>\n",
       "      <th>price</th>\n",
       "      <th>make</th>\n",
       "      <th>fuel-type</th>\n",
       "      <th>body-style</th>\n",
       "      <th>drive-wheels</th>\n",
       "      <th>engine-location</th>\n",
       "      <th>engine-type</th>\n",
       "    </tr>\n",
       "  </thead>\n",
       "  <tbody>\n",
       "    <tr>\n",
       "      <th>0</th>\n",
       "      <td>3</td>\n",
       "      <td>122.0</td>\n",
       "      <td>64.1</td>\n",
       "      <td>48.8</td>\n",
       "      <td>130</td>\n",
       "      <td>111.0</td>\n",
       "      <td>21</td>\n",
       "      <td>27</td>\n",
       "      <td>13495</td>\n",
       "      <td>0</td>\n",
       "      <td>1</td>\n",
       "      <td>0</td>\n",
       "      <td>2</td>\n",
       "      <td>0</td>\n",
       "      <td>0</td>\n",
       "    </tr>\n",
       "    <tr>\n",
       "      <th>1</th>\n",
       "      <td>3</td>\n",
       "      <td>122.0</td>\n",
       "      <td>64.1</td>\n",
       "      <td>48.8</td>\n",
       "      <td>130</td>\n",
       "      <td>111.0</td>\n",
       "      <td>21</td>\n",
       "      <td>27</td>\n",
       "      <td>16500</td>\n",
       "      <td>0</td>\n",
       "      <td>1</td>\n",
       "      <td>0</td>\n",
       "      <td>2</td>\n",
       "      <td>0</td>\n",
       "      <td>0</td>\n",
       "    </tr>\n",
       "    <tr>\n",
       "      <th>2</th>\n",
       "      <td>1</td>\n",
       "      <td>122.0</td>\n",
       "      <td>65.5</td>\n",
       "      <td>52.4</td>\n",
       "      <td>152</td>\n",
       "      <td>154.0</td>\n",
       "      <td>19</td>\n",
       "      <td>26</td>\n",
       "      <td>16500</td>\n",
       "      <td>0</td>\n",
       "      <td>1</td>\n",
       "      <td>2</td>\n",
       "      <td>2</td>\n",
       "      <td>0</td>\n",
       "      <td>5</td>\n",
       "    </tr>\n",
       "    <tr>\n",
       "      <th>3</th>\n",
       "      <td>2</td>\n",
       "      <td>164.0</td>\n",
       "      <td>66.2</td>\n",
       "      <td>54.3</td>\n",
       "      <td>109</td>\n",
       "      <td>102.0</td>\n",
       "      <td>24</td>\n",
       "      <td>30</td>\n",
       "      <td>13950</td>\n",
       "      <td>1</td>\n",
       "      <td>1</td>\n",
       "      <td>3</td>\n",
       "      <td>1</td>\n",
       "      <td>0</td>\n",
       "      <td>3</td>\n",
       "    </tr>\n",
       "    <tr>\n",
       "      <th>4</th>\n",
       "      <td>2</td>\n",
       "      <td>164.0</td>\n",
       "      <td>66.4</td>\n",
       "      <td>54.3</td>\n",
       "      <td>136</td>\n",
       "      <td>115.0</td>\n",
       "      <td>18</td>\n",
       "      <td>22</td>\n",
       "      <td>17450</td>\n",
       "      <td>1</td>\n",
       "      <td>1</td>\n",
       "      <td>3</td>\n",
       "      <td>0</td>\n",
       "      <td>0</td>\n",
       "      <td>3</td>\n",
       "    </tr>\n",
       "  </tbody>\n",
       "</table>\n",
       "</div>"
      ],
      "text/plain": [
       "   symboling  normalized-losses  width  height  engine-size  horsepower  \\\n",
       "0          3              122.0   64.1    48.8          130       111.0   \n",
       "1          3              122.0   64.1    48.8          130       111.0   \n",
       "2          1              122.0   65.5    52.4          152       154.0   \n",
       "3          2              164.0   66.2    54.3          109       102.0   \n",
       "4          2              164.0   66.4    54.3          136       115.0   \n",
       "\n",
       "   city-mpg  highway-mpg  price  make  fuel-type  body-style  drive-wheels  \\\n",
       "0        21           27  13495     0          1           0             2   \n",
       "1        21           27  16500     0          1           0             2   \n",
       "2        19           26  16500     0          1           2             2   \n",
       "3        24           30  13950     1          1           3             1   \n",
       "4        18           22  17450     1          1           3             0   \n",
       "\n",
       "   engine-location  engine-type  \n",
       "0                0            0  \n",
       "1                0            0  \n",
       "2                0            5  \n",
       "3                0            3  \n",
       "4                0            3  "
      ]
     },
     "execution_count": 25,
     "metadata": {},
     "output_type": "execute_result"
    }
   ],
   "source": [
    "# Final data frame is ready for cleaning process\n",
    "Final_df.head() "
   ]
  },
  {
   "cell_type": "code",
   "execution_count": 26,
   "metadata": {},
   "outputs": [],
   "source": [
    "X = Final_df.drop(\"price\",axis=1)\n",
    "y = df['price']"
   ]
  },
  {
   "cell_type": "code",
   "execution_count": 27,
   "metadata": {},
   "outputs": [],
   "source": [
    "# Split data for train and test\n",
    "X_train,X_test,y_train,y_test = train_test_split(X,y,test_size=0.3,random_state=1)"
   ]
  },
  {
   "cell_type": "code",
   "execution_count": 28,
   "metadata": {},
   "outputs": [],
   "source": [
    "from sklearn.model_selection import train_test_split\n",
    "from sklearn.linear_model import LinearRegression\n",
    "# Evaluating model\n",
    "from sklearn.metrics import mean_squared_error\n",
    "from sklearn.metrics import mean_absolute_error\n",
    "from sklearn.metrics import r2_score"
   ]
  },
  {
   "cell_type": "code",
   "execution_count": 29,
   "metadata": {},
   "outputs": [],
   "source": [
    "lr = LinearRegression()"
   ]
  },
  {
   "cell_type": "code",
   "execution_count": 30,
   "metadata": {},
   "outputs": [],
   "source": [
    "lr.fit(X_train,y_train)\n",
    "y_pred = lr.predict(X_test)"
   ]
  },
  {
   "cell_type": "code",
   "execution_count": 31,
   "metadata": {},
   "outputs": [
    {
     "data": {
      "text/plain": [
       "0.7965566780397381"
      ]
     },
     "execution_count": 31,
     "metadata": {},
     "output_type": "execute_result"
    }
   ],
   "source": [
    "lr.score(X_test,y_test)"
   ]
  },
  {
   "cell_type": "code",
   "execution_count": 32,
   "metadata": {},
   "outputs": [
    {
     "data": {
      "text/plain": [
       "0.7965566780397381"
      ]
     },
     "execution_count": 32,
     "metadata": {},
     "output_type": "execute_result"
    }
   ],
   "source": [
    "r2_score(y_test,y_pred)"
   ]
  },
  {
   "cell_type": "markdown",
   "metadata": {},
   "source": [
    "#Now we will apply Redge and Lasso module to make model from overfit to goodfit"
   ]
  },
  {
   "cell_type": "code",
   "execution_count": 33,
   "metadata": {},
   "outputs": [],
   "source": [
    "from sklearn.linear_model import Lasso\n",
    "from sklearn.linear_model import Ridge"
   ]
  },
  {
   "cell_type": "code",
   "execution_count": 34,
   "metadata": {},
   "outputs": [
    {
     "name": "stdout",
     "output_type": "stream",
     "text": [
      "0 : 0.7965566780397377\n",
      "1 : 0.8074518758147271\n",
      "2 : 0.8110292248150515\n",
      "3 : 0.8126933383890033\n",
      "4 : 0.81361486450293\n",
      "5 : 0.8141745853539418\n",
      "6 : 0.8145301242133357\n",
      "7 : 0.8147582608502814\n",
      "8 : 0.8149010602831952\n",
      "9 : 0.8149836949253051\n",
      "10 : 0.8150222867376528\n",
      "11 : 0.815027724543179\n",
      "12 : 0.8150076788279418\n",
      "13 : 0.8149677381788262\n",
      "14 : 0.8149120868051174\n",
      "15 : 0.8148439278252518\n",
      "16 : 0.8147657584947389\n",
      "17 : 0.8146795554128122\n",
      "18 : 0.8145869029046835\n",
      "19 : 0.8144890843369587\n",
      "20 : 0.8143871485445551\n",
      "21 : 0.8142819591129827\n",
      "22 : 0.8141742315788492\n",
      "23 : 0.8140645619421539\n",
      "24 : 0.813953448816606\n",
      "25 : 0.8138413108452036\n",
      "26 : 0.8137285005403773\n",
      "27 : 0.8136153153884842\n",
      "28 : 0.813502006836264\n",
      "29 : 0.8133887876197213\n",
      "30 : 0.813275837783145\n",
      "31 : 0.8131633096537951\n",
      "32 : 0.8130513319772293\n",
      "33 : 0.8129400133729974\n",
      "34 : 0.8128294452363019\n",
      "35 : 0.8127197041851856\n",
      "36 : 0.8126108541327799\n",
      "37 : 0.812502948048576\n",
      "38 : 0.8123960294605085\n",
      "39 : 0.8122901337400302\n",
      "40 : 0.8121852892047273\n",
      "41 : 0.8120815180669062\n",
      "42 : 0.8119788372516913\n",
      "43 : 0.8118772591041923\n",
      "44 : 0.8117767920020496\n",
      "45 : 0.8116774408870527\n",
      "46 : 0.8115792077273272\n",
      "47 : 0.8114820919198036\n",
      "48 : 0.8113860906412016\n",
      "49 : 0.8112911991545092\n"
     ]
    }
   ],
   "source": [
    "# Now we are checking l2 score with Ridge model\n",
    "for i in range(50):\n",
    "    l2 = Ridge(alpha=i)\n",
    "    l2.fit(X_train,y_train)\n",
    "    print(i,\":\",l2.score(X_test,y_test))"
   ]
  },
  {
   "cell_type": "code",
   "execution_count": 35,
   "metadata": {},
   "outputs": [
    {
     "name": "stdout",
     "output_type": "stream",
     "text": [
      "200 : 0.8139201358023779\n",
      "201 : 0.8139280662762406\n",
      "202 : 0.8139351596604211\n",
      "203 : 0.8139414452413288\n",
      "204 : 0.8139468631678922\n",
      "205 : 0.8139514440169051\n",
      "206 : 0.813955187854152\n",
      "207 : 0.8139580947656483\n",
      "208 : 0.8139601648600466\n",
      "209 : 0.8139614191109495\n",
      "210 : 0.8139618129219517\n",
      "211 : 0.813961388660969\n",
      "212 : 0.8139601251073796\n",
      "213 : 0.813958006711075\n",
      "214 : 0.8139550662926404\n",
      "215 : 0.8139512871144874\n",
      "216 : 0.8139466685438558\n",
      "217 : 0.8139412205900795\n",
      "218 : 0.8139349321776367\n",
      "219 : 0.8139278044131173\n",
      "220 : 0.8139198412531333\n",
      "221 : 0.8139110395684608\n",
      "222 : 0.813901396083556\n",
      "223 : 0.8138907327491185\n",
      "224 : 0.8138793495175788\n",
      "225 : 0.813867941317315\n",
      "226 : 0.8138517841273681\n",
      "227 : 0.8138300965530064\n",
      "228 : 0.813808862026844\n",
      "229 : 0.8137720953012534\n",
      "230 : 0.8137112454115847\n",
      "231 : 0.8136506073167213\n",
      "232 : 0.8135895879419388\n",
      "233 : 0.8135281292925489\n",
      "234 : 0.813466234547569\n",
      "235 : 0.8134039469376061\n",
      "236 : 0.8133412664626607\n",
      "237 : 0.8132781990167929\n",
      "238 : 0.8132147054024552\n",
      "239 : 0.8131507954227812\n",
      "240 : 0.8130864923620045\n",
      "241 : 0.8130217962201243\n",
      "242 : 0.8129567069971413\n",
      "243 : 0.812891328869501\n",
      "244 : 0.8128254778583941\n",
      "245 : 0.8127592338606415\n",
      "246 : 0.8126926014737257\n",
      "247 : 0.812625518198687\n",
      "248 : 0.8125580417077234\n",
      "249 : 0.8124901720008357\n",
      "250 : 0.812421909078023\n",
      "251 : 0.8123532529392858\n",
      "252 : 0.8122842035846242\n",
      "253 : 0.8122147643892639\n",
      "254 : 0.8121449323093155\n",
      "255 : 0.8120747070337009\n",
      "256 : 0.8120040885624206\n",
      "257 : 0.8119330768954734\n",
      "258 : 0.8118616493276113\n",
      "259 : 0.8117898222707731\n",
      "260 : 0.8117176101040023\n",
      "261 : 0.8116449992700033\n",
      "262 : 0.8115719627607367\n",
      "263 : 0.811498535362421\n",
      "264 : 0.8114247182567383\n",
      "265 : 0.8113505077425297\n",
      "266 : 0.8112759038197943\n",
      "267 : 0.8112009064885328\n",
      "268 : 0.8111255157487448\n",
      "269 : 0.8110497316004308\n",
      "270 : 0.8109735540435901\n",
      "271 : 0.8108969830782234\n",
      "272 : 0.8108200187043304\n",
      "273 : 0.8107426644653367\n",
      "274 : 0.8106649359915966\n",
      "275 : 0.8105868142205799\n",
      "276 : 0.8105082991522867\n",
      "277 : 0.8104293907867172\n",
      "278 : 0.8103500891238709\n",
      "279 : 0.810270394163748\n",
      "280 : 0.8101903059063487\n",
      "281 : 0.8101098243516728\n",
      "282 : 0.8100289503566498\n",
      "283 : 0.8099476891019487\n",
      "284 : 0.8098660345890859\n",
      "285 : 0.809783986818061\n",
      "286 : 0.8097015319583754\n",
      "287 : 0.8096186746243194\n",
      "288 : 0.8095354239555611\n",
      "289 : 0.8094517799521009\n",
      "290 : 0.8093677426139384\n",
      "291 : 0.8092833119410736\n",
      "292 : 0.8091984879335066\n",
      "293 : 0.8091132705912374\n",
      "294 : 0.809027659914266\n",
      "295 : 0.808941655902592\n",
      "296 : 0.8088552585562161\n",
      "297 : 0.808768467875138\n",
      "298 : 0.8086812827485821\n",
      "299 : 0.808593702999889\n",
      "300 : 0.8085057299003378\n",
      "301 : 0.8084173634499286\n",
      "302 : 0.8083286036486615\n",
      "303 : 0.8082394504965368\n",
      "304 : 0.808149903993554\n",
      "305 : 0.8080597663593838\n",
      "306 : 0.8079694364395277\n",
      "307 : 0.807878712059504\n",
      "308 : 0.8077875927452483\n",
      "309 : 0.8076960801039036\n",
      "310 : 0.8076041741354694\n",
      "311 : 0.807511874839946\n",
      "312 : 0.8074191822173336\n",
      "313 : 0.807326096267632\n",
      "314 : 0.8072326169908411\n",
      "315 : 0.8071387443869611\n",
      "316 : 0.8070444784559919\n",
      "317 : 0.8069498191979334\n",
      "318 : 0.8068547679582497\n",
      "319 : 0.806759324754675\n",
      "320 : 0.8066634882387582\n",
      "321 : 0.806567258410499\n",
      "322 : 0.8064706355018442\n",
      "323 : 0.8063736241924755\n",
      "324 : 0.806276209686474\n",
      "325 : 0.8061784017113415\n",
      "326 : 0.8060802004223011\n",
      "327 : 0.8059816058193523\n",
      "328 : 0.8058826179024958\n",
      "329 : 0.8057832366717311\n",
      "330 : 0.8056834621270582\n",
      "331 : 0.8055832942684774\n",
      "332 : 0.8054827330959884\n",
      "333 : 0.8053817786095915\n",
      "334 : 0.8052804308092864\n",
      "335 : 0.8051786896950732\n",
      "336 : 0.805076555266952\n",
      "337 : 0.8049740275249224\n",
      "338 : 0.8048711064689851\n",
      "339 : 0.8047677920991396\n",
      "340 : 0.8046640844153861\n",
      "341 : 0.8045599834177244\n",
      "342 : 0.8044554891061547\n",
      "343 : 0.8043506014806769\n",
      "344 : 0.8042453205412912\n",
      "345 : 0.8041396462879971\n",
      "346 : 0.804033578720795\n",
      "347 : 0.8039271178396848\n",
      "348 : 0.8038202636446665\n",
      "349 : 0.8037130161357406\n",
      "350 : 0.8036053753129061\n",
      "351 : 0.8034973411761638\n",
      "352 : 0.8033889137255131\n",
      "353 : 0.8032800980551268\n",
      "354 : 0.803170889262357\n",
      "355 : 0.8030612871796007\n",
      "356 : 0.8029512918068575\n",
      "357 : 0.8028409031441278\n",
      "358 : 0.8027301211914113\n",
      "359 : 0.8026189459487084\n",
      "360 : 0.8025073774160187\n",
      "361 : 0.8023954155933423\n",
      "362 : 0.8022830604806791\n",
      "363 : 0.8021703171121435\n",
      "364 : 0.802057182148053\n",
      "365 : 0.8019436539226591\n",
      "366 : 0.801829732435962\n",
      "367 : 0.8017154176879616\n",
      "368 : 0.801600709678658\n",
      "369 : 0.8014856084080508\n",
      "370 : 0.8013701138761409\n",
      "371 : 0.8012542260829274\n",
      "372 : 0.8011379462701961\n",
      "373 : 0.8010212751908075\n",
      "374 : 0.8009042172865066\n",
      "375 : 0.8007867661601789\n",
      "376 : 0.8006689218118243\n",
      "377 : 0.800550684241443\n",
      "378 : 0.800432053449035\n",
      "379 : 0.8003130294346004\n",
      "380 : 0.800193612198139\n",
      "381 : 0.8000738072795831\n",
      "382 : 0.7999536124452485\n",
      "383 : 0.7998330244208515\n",
      "384 : 0.7997120432063927\n",
      "385 : 0.7995906688018721\n",
      "386 : 0.7994689012072893\n",
      "387 : 0.7993467366322341\n",
      "388 : 0.7992241732535745\n",
      "389 : 0.7991012126725364\n",
      "390 : 0.7989778588559754\n",
      "391 : 0.7988541118038919\n",
      "392 : 0.7987299715162852\n",
      "393 : 0.7986054379931559\n",
      "394 : 0.7984805112345036\n",
      "395 : 0.7983551936194992\n",
      "396 : 0.7982294953903467\n",
      "397 : 0.7981034039735372\n",
      "398 : 0.7979769193690709\n",
      "399 : 0.7978500415769475\n",
      "400 : 0.7977229768452248\n",
      "401 : 0.797595316979359\n",
      "402 : 0.7974672639209062\n",
      "403 : 0.7973388176698656\n",
      "404 : 0.7972099782262378\n",
      "405 : 0.7970807492907477\n",
      "406 : 0.7969511276479816\n",
      "407 : 0.7968211128006852\n",
      "408 : 0.7966907047488581\n",
      "409 : 0.7965599034925004\n",
      "410 : 0.7964287090316121\n",
      "411 : 0.7962971141894278\n",
      "412 : 0.7961658095051947\n",
      "413 : 0.7960333874447736\n",
      "414 : 0.7959005840477482\n",
      "415 : 0.7957673485417148\n",
      "416 : 0.7956360399711223\n",
      "417 : 0.7956012202839211\n",
      "418 : 0.7955644775167092\n",
      "419 : 0.7955276099492593\n",
      "420 : 0.7954937732294455\n",
      "421 : 0.7954792349354558\n",
      "422 : 0.7954646622071457\n",
      "423 : 0.7954500580147692\n",
      "424 : 0.7954354223583258\n",
      "425 : 0.7954207552378159\n",
      "426 : 0.7954060566532389\n",
      "427 : 0.7953913266045957\n",
      "428 : 0.7953765650918857\n",
      "429 : 0.7953617721151091\n",
      "430 : 0.795346947674266\n",
      "431 : 0.7953320917693557\n",
      "432 : 0.7953172100333781\n",
      "433 : 0.7953023265976903\n",
      "434 : 0.7952888275634816\n",
      "435 : 0.7952738957429267\n",
      "436 : 0.7952589324974931\n",
      "437 : 0.7952439378271803\n",
      "438 : 0.795228911731989\n",
      "439 : 0.7952138522057596\n",
      "440 : 0.7951987590412704\n",
      "441 : 0.795183635814257\n",
      "442 : 0.795168482571672\n",
      "443 : 0.7951532979028971\n",
      "444 : 0.7951380818079329\n",
      "445 : 0.7951228941367539\n",
      "446 : 0.7951076795054992\n",
      "447 : 0.7950924335037355\n",
      "448 : 0.7950771561314626\n",
      "449 : 0.7950618668526035\n",
      "450 : 0.7950465607641614\n",
      "451 : 0.7950312233360108\n",
      "452 : 0.7950158545681519\n",
      "453 : 0.7950004544605845\n",
      "454 : 0.7949850853076297\n",
      "455 : 0.7949697021173643\n",
      "456 : 0.7949542876563074\n",
      "457 : 0.7949388419244583\n",
      "458 : 0.7949233649218175\n",
      "459 : 0.7949078596503468\n",
      "460 : 0.7948924206311466\n",
      "461 : 0.7948769504284543\n",
      "462 : 0.7948614639887756\n",
      "463 : 0.7948501408515352\n",
      "464 : 0.7948434115801503\n",
      "465 : 0.7948369145454427\n",
      "466 : 0.7948304073993945\n",
      "467 : 0.7948238901420057\n",
      "468 : 0.7948173627732755\n",
      "469 : 0.794810825293205\n",
      "470 : 0.7948042777017933\n",
      "471 : 0.794797719999041\n",
      "472 : 0.7947911521849479\n",
      "473 : 0.7947845742595139\n",
      "474 : 0.7947779846721656\n",
      "475 : 0.7947713777053392\n",
      "476 : 0.7947647606241638\n",
      "477 : 0.7947581316579226\n",
      "478 : 0.7947514874358043\n",
      "479 : 0.7947448330965516\n",
      "480 : 0.7947381686401647\n",
      "481 : 0.7947314940666432\n",
      "482 : 0.7947248093759877\n",
      "483 : 0.7947181145681976\n",
      "484 : 0.7947114096432736\n",
      "485 : 0.794704694601215\n",
      "486 : 0.7946979694420219\n",
      "487 : 0.7946912341656945\n",
      "488 : 0.794684488772233\n",
      "489 : 0.7946777332616372\n",
      "490 : 0.794670967633907\n",
      "491 : 0.7946641918890422\n",
      "492 : 0.794657406027043\n",
      "493 : 0.7946506100479099\n",
      "494 : 0.7946438039516425\n",
      "495 : 0.7946369877382407\n",
      "496 : 0.7946301614077043\n",
      "497 : 0.7946233249600336\n",
      "498 : 0.7946164783952289\n",
      "499 : 0.7946096463760299\n"
     ]
    }
   ],
   "source": [
    "# Now we are checking l1 score with Lasso model\n",
    "for i in range(200,500):\n",
    "    l1 = Lasso(alpha=i)\n",
    "    l1.fit(X_train,y_train)\n",
    "    print(i,\":\",l1.score(X_test,y_test))"
   ]
  },
  {
   "cell_type": "code",
   "execution_count": 44,
   "metadata": {},
   "outputs": [
    {
     "name": "stdout",
     "output_type": "stream",
     "text": [
      "0.815027724543179\n"
     ]
    }
   ],
   "source": [
    "l2 = Ridge(alpha=11)\n",
    "l2.fit(X_train,y_train)\n",
    "print(l2.score(X_test,y_test))"
   ]
  },
  {
   "cell_type": "code",
   "execution_count": 45,
   "metadata": {},
   "outputs": [
    {
     "name": "stdout",
     "output_type": "stream",
     "text": [
      "0.8139601251073796\n"
     ]
    }
   ],
   "source": [
    "l1 = Lasso(alpha=212)\n",
    "l1.fit(X_train,y_train)\n",
    "print(l1.score(X_test,y_test))"
   ]
  },
  {
   "cell_type": "code",
   "execution_count": 46,
   "metadata": {},
   "outputs": [
    {
     "data": {
      "text/plain": [
       "array([   0.        ,    2.06688612,  293.00804229,  475.74946113,\n",
       "        116.54461228,   15.88311143,   18.71477938, -106.73349254,\n",
       "       -165.63385126,   -0.        , -417.94284571, 1064.54140452,\n",
       "       1219.50325351,  307.62453398])"
      ]
     },
     "execution_count": 46,
     "metadata": {},
     "output_type": "execute_result"
    }
   ],
   "source": [
    "#Coefficient with Lasso\n",
    "l1.coef_"
   ]
  },
  {
   "cell_type": "code",
   "execution_count": 47,
   "metadata": {},
   "outputs": [
    {
     "data": {
      "text/plain": [
       "array([ 2.08075572e+02, -4.19381533e-01,  3.60059061e+02,  5.73951520e+02,\n",
       "        1.04837625e+02,  2.25081577e+01,  2.09621781e+02, -2.70364868e+02,\n",
       "       -1.85682528e+02, -8.73561956e+02, -6.31723522e+02,  1.53165287e+03,\n",
       "        2.37667318e+03,  5.13039213e+02])"
      ]
     },
     "execution_count": 47,
     "metadata": {},
     "output_type": "execute_result"
    }
   ],
   "source": [
    "#Coefficient with Ridge\n",
    "\n",
    "l2.coef_"
   ]
  },
  {
   "cell_type": "code",
   "execution_count": 48,
   "metadata": {},
   "outputs": [],
   "source": [
    "#If we have values in both l1 & l2 then we can add them both and divide by 2\n",
    "\n",
    "Elastic_Net = (l1.coef_+l2.coef_)/2"
   ]
  },
  {
   "cell_type": "code",
   "execution_count": 49,
   "metadata": {},
   "outputs": [
    {
     "data": {
      "text/plain": [
       "array([ 1.04037786e+02,  8.23752296e-01,  3.26533552e+02,  5.24850491e+02,\n",
       "        1.10691119e+02,  1.91956346e+01,  1.14168280e+02, -1.88549180e+02,\n",
       "       -1.75658190e+02, -4.36780978e+02, -5.24833184e+02,  1.29809714e+03,\n",
       "        1.79808822e+03,  4.10331873e+02])"
      ]
     },
     "execution_count": 49,
     "metadata": {},
     "output_type": "execute_result"
    }
   ],
   "source": [
    "Elastic_Net"
   ]
  },
  {
   "cell_type": "code",
   "execution_count": 50,
   "metadata": {},
   "outputs": [],
   "source": [
    "from sklearn.model_selection import cross_val_score"
   ]
  },
  {
   "cell_type": "code",
   "execution_count": 51,
   "metadata": {},
   "outputs": [],
   "source": [
    "l1_corssScore = cross_val_score(l1,X,y,cv=4)"
   ]
  },
  {
   "cell_type": "code",
   "execution_count": 52,
   "metadata": {},
   "outputs": [
    {
     "data": {
      "text/plain": [
       "array([0.76829534, 0.81734961, 0.43670651, 0.44902514])"
      ]
     },
     "execution_count": 52,
     "metadata": {},
     "output_type": "execute_result"
    }
   ],
   "source": [
    "l1_corssScore"
   ]
  },
  {
   "cell_type": "code",
   "execution_count": 53,
   "metadata": {},
   "outputs": [
    {
     "data": {
      "text/plain": [
       "array([0.74102278, 0.859919  , 0.40754955, 0.45287323])"
      ]
     },
     "execution_count": 53,
     "metadata": {},
     "output_type": "execute_result"
    }
   ],
   "source": [
    "l2_corssScore = cross_val_score(l2,X,y,cv=4)\n",
    "l2_corssScore"
   ]
  },
  {
   "cell_type": "code",
   "execution_count": 54,
   "metadata": {},
   "outputs": [
    {
     "data": {
      "text/plain": [
       "0.6178441498868903"
      ]
     },
     "execution_count": 54,
     "metadata": {},
     "output_type": "execute_result"
    }
   ],
   "source": [
    "np.mean(l1_corssScore)"
   ]
  },
  {
   "cell_type": "code",
   "execution_count": 55,
   "metadata": {},
   "outputs": [
    {
     "data": {
      "text/plain": [
       "0.6153411408406563"
      ]
     },
     "execution_count": 55,
     "metadata": {},
     "output_type": "execute_result"
    }
   ],
   "source": [
    "np.mean(l2_corssScore)"
   ]
  },
  {
   "cell_type": "code",
   "execution_count": null,
   "metadata": {},
   "outputs": [],
   "source": []
  }
 ],
 "metadata": {
  "kernelspec": {
   "display_name": "Python 3",
   "language": "python",
   "name": "python3"
  },
  "language_info": {
   "codemirror_mode": {
    "name": "ipython",
    "version": 3
   },
   "file_extension": ".py",
   "mimetype": "text/x-python",
   "name": "python",
   "nbconvert_exporter": "python",
   "pygments_lexer": "ipython3",
   "version": "3.7.3"
  }
 },
 "nbformat": 4,
 "nbformat_minor": 4
}
